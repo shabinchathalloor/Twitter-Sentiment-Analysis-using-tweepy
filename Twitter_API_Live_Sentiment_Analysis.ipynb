{
 "cells": [
  {
   "cell_type": "raw",
   "metadata": {},
   "source": [
    ">>> This example shows how the sentiments distributed on specific keyword or hashtag. The number of tweets to search is specified by the user."
   ]
  },
  {
   "cell_type": "code",
   "execution_count": 1,
   "metadata": {},
   "outputs": [],
   "source": [
    "import sys,tweepy,csv,re\n",
    "from textblob import TextBlob\n",
    "import matplotlib.pyplot as plt"
   ]
  },
  {
   "cell_type": "code",
   "execution_count": 2,
   "metadata": {},
   "outputs": [],
   "source": [
    "# function to calculate percentage\n",
    "def percentage(part, whole):\n",
    "    temp = 100 * float(part) / float(whole)\n",
    "    return format(temp, '.2f')"
   ]
  },
  {
   "cell_type": "code",
   "execution_count": 3,
   "metadata": {},
   "outputs": [],
   "source": [
    "# authenticating\n",
    "consumerKey = 'NqXM9g9PUfVc0jonuVrvwGSyB'\n",
    "consumerSecret = '8jWShAmFeommDDI49yJFVsPWU7nom1Twpc3YTAyfu0zYmgHPf6'\n",
    "accessToken = '840082255-6sW2HBKFRo4nqIePLGzCmifT0qqGxLufSynfgLic'\n",
    "accessTokenSecret = 'JgEIelHVAkrTAkt015awLGLoLMb7HD7sPruxlAkQVECc2'\n",
    "\n",
    "\n",
    "auth = tweepy.OAuthHandler(consumerKey, consumerSecret)\n",
    "auth.set_access_token(accessToken, accessTokenSecret)\n",
    "api = tweepy.API(auth)"
   ]
  },
  {
   "cell_type": "code",
   "execution_count": 4,
   "metadata": {},
   "outputs": [
    {
     "name": "stdout",
     "output_type": "stream",
     "text": [
      "Enter Keyword/Tag to search about: datascience\n",
      "Enter how many tweets to search: 500\n"
     ]
    }
   ],
   "source": [
    "# input for term to be searched and how many tweets to search\n",
    "searchTerm = input(\"Enter Keyword/Tag to search about: \")\n",
    "NoOfTerms = int(input(\"Enter how many tweets to search: \"))"
   ]
  },
  {
   "cell_type": "code",
   "execution_count": 5,
   "metadata": {},
   "outputs": [],
   "source": [
    "# searching for tweets\n",
    "tweets = tweepy.Cursor(api.search, q=searchTerm, lang = \"en\").items(NoOfTerms)"
   ]
  },
  {
   "cell_type": "code",
   "execution_count": 6,
   "metadata": {},
   "outputs": [],
   "source": [
    "positive = 0; negative = 0; neutral = 0; polarity = 0"
   ]
  },
  {
   "cell_type": "code",
   "execution_count": 7,
   "metadata": {},
   "outputs": [],
   "source": [
    "for tweet in tweets:\n",
    "    #print(tweet.text)\n",
    "    analysis = TextBlob(tweet.text)\n",
    "    \n",
    "    polarity += analysis.sentiment.polarity\n",
    "    if (analysis.sentiment.polarity == 0):  # adding reaction of how people are reacting to find average later\n",
    "        neutral += 1\n",
    "    elif (analysis.sentiment.polarity < 0.00):\n",
    "        negative += 1\n",
    "    elif (analysis.sentiment.polarity > 0.00):\n",
    "        positive += 1\n",
    "\n"
   ]
  },
  {
   "cell_type": "code",
   "execution_count": 8,
   "metadata": {},
   "outputs": [],
   "source": [
    "# finding average of how people are reacting\n",
    "positive = percentage(positive, NoOfTerms)\n",
    "negative = percentage(negative, NoOfTerms)\n",
    "neutral = percentage(neutral, NoOfTerms)\n",
    "polarity = percentage(polarity, NoOfTerms)\n",
    "\n",
    "#positive = format(positive, '.2f')\n",
    "positive = format(positive)\n",
    "negative = format(negative)\n",
    "neutral = format(neutral)"
   ]
  },
  {
   "cell_type": "code",
   "execution_count": 9,
   "metadata": {},
   "outputs": [
    {
     "name": "stdout",
     "output_type": "stream",
     "text": [
      "How people are reacting on datascience by analyzing 500 tweets.\n",
      "Positive\n"
     ]
    }
   ],
   "source": [
    "# printing out data\n",
    "print(\"How people are reacting on \" + searchTerm + \" by analyzing \" + str(NoOfTerms) + \" tweets.\")\n",
    "\n",
    "if(polarity == '0'):\n",
    "    print(\"Neutral\")\n",
    "elif(polarity < '0.00'):\n",
    "    print(\"Negative\")\n",
    "elif(polarity > '0.00'):\n",
    "    print(\"Positive\")"
   ]
  },
  {
   "cell_type": "code",
   "execution_count": 10,
   "metadata": {},
   "outputs": [
    {
     "data": {
      "image/png": "[encoded data removed]",
      "text/plain": [
       "<Figure size 432x288 with 1 Axes>"
      ]
     },
     "metadata": {},
     "output_type": "display_data"
    }
   ],
   "source": [
    "#plotting pie chart\n",
    "labels = ['Positive [' + str(positive) + '%]', 'Neutral [' + str(neutral) + '%]','Negative [' + str(negative) + '%]']\n",
    "sizes = [positive, neutral, negative]\n",
    "colors = ['yellowgreen', 'blue', 'red']\n",
    "patches, texts = plt.pie(sizes, colors=colors, startangle=90, radius=5)\n",
    "plt.legend(patches, labels, loc=\"best\")\n",
    "plt.title('How people are reacting on ' + searchTerm + ' by analyzing ' + str(NoOfTerms) + ' Tweets.')\n",
    "plt.axis('equal')\n",
    "plt.tight_layout()\n",
    "plt.show()\n"
   ]
  },
  {
   "cell_type": "code",
   "execution_count": null,
   "metadata": {},
   "outputs": [],
   "source": []
  }
 ],
 "metadata": {
  "kernelspec": {
   "display_name": "Python 3",
   "language": "python",
   "name": "python3"
  },
  "language_info": {
   "codemirror_mode": {
    "name": "ipython",
    "version": 3
   },
   "file_extension": ".py",
   "mimetype": "text/x-python",
   "name": "python",
   "nbconvert_exporter": "python",
   "pygments_lexer": "ipython3",
   "version": "3.7.1"
  }
 },
 "nbformat": 4,
 "nbformat_minor": 2
}
